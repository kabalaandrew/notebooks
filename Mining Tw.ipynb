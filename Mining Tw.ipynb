{
 "cells": [
  {
   "cell_type": "code",
   "execution_count": 10,
   "metadata": {
    "collapsed": false
   },
   "outputs": [
    {
     "name": "stderr",
     "output_type": "stream",
     "text": [
      "usage: __main__.py [-h] [-ck CONSUMER_KEY] [-cs CONSUMER_SECRET]\n",
      "                   [-at ACCESS_TOKEN] [-ats ACCESS_TOKEN_SECRET]\n",
      "__main__.py: error: unrecognized arguments: -f C:\\Users\\Andrew.Andrew-PC\\AppData\\Roaming\\jupyter\\runtime\\kernel-5430c5c5-e671-4025-865c-29b89eac635c.json\n"
     ]
    },
    {
     "ename": "SystemExit",
     "evalue": "2",
     "output_type": "error",
     "traceback": [
      "An exception has occurred, use %tb to see the full traceback.\n",
      "\u001b[1;31mSystemExit\u001b[0m\u001b[1;31m:\u001b[0m 2\n"
     ]
    },
    {
     "name": "stderr",
     "output_type": "stream",
     "text": [
      "To exit: use 'exit', 'quit', or Ctrl-D.\n"
     ]
    }
   ],
   "source": [
    "import argparse\n",
    "import urllib\n",
    "import json\n",
    "import os\n",
    "import httplib2\n",
    "import oauth2\n",
    "\n",
    "\n",
    "{\n",
    "    \"consumer_key\": \"AhnQ75Njvid1E0F5OfDka0Mdy\",\n",
    "    \"consumer_secret\": \"Gza45JFyy6bAEMkZWGx4Edk3yT70lE6cl0nwHKun823lk71cbf\",\n",
    "    \"access_token\": \"221085452-JpzdsvDoqh5xswyAb2HPHt4oPQxX5S8IP4OHbaGo\",\n",
    "    \"access_token_secret\": \"fiLvFHqV3HK0aYiSyD75IpxeUNhYqW7ccdsDzLvIRzE6D\"\n",
    "}\n",
    "\n",
    "class TwitterData:\n",
    "    def parse_config(self):\n",
    "        config = {}\n",
    "        # from file args\n",
    "        if os.path.exists('config.json'):\n",
    "            with open('config.json') as f:\n",
    "                config.update(json.load(f))\n",
    "        else:\n",
    "            # may be from command line\n",
    "            parser = argparse.ArgumentParser()\n",
    "\n",
    "            parser.add_argument('-ck', '--consumer_key', default=None, help='Your developper `Consumer Key`')\n",
    "            parser.add_argument('-cs', '--consumer_secret', default=None, help='Your developper `Consumer Secret`')\n",
    "            parser.add_argument('-at', '--access_token', default=None, help='A client `Access Token`')\n",
    "            parser.add_argument('-ats', '--access_token_secret', default=None, help='A client `Access Token Secret`')\n",
    "\n",
    "            args_ = parser.parse_args()\n",
    "            def val(key):\n",
    "                return config.get(key)\\\n",
    "                    or getattr(args_, key)\\\n",
    "                    or raw_input('Your developper `%s`: ' % key)\n",
    "            config.update({\n",
    "                'consumer_key': val('consumer_key'),\n",
    "                'consumer_secret': val('consumer_secret'),\n",
    "                'access_token': val('access_token'),\n",
    "                'access_token_secret': val('access_token_secret'),\n",
    "            })\n",
    "        # should have something now\n",
    "        return config\n",
    "    #end\n",
    "\n",
    "    def oauth_req(self, url, http_method=\"GET\", post_body=None,\n",
    "                  http_headers=None):\n",
    "        config = self.parse_config()\n",
    "        consumer = oauth.Consumer(key=config.get('consumer_key'), secret=config.get('consumer_secret'))\n",
    "        token = oauth.Token(key=config.get('access_token'), secret=config.get('access_token_secret'))\n",
    "        client = oauth.Client(consumer, token)\n",
    "\n",
    "        resp, content = client.request(\n",
    "            url,\n",
    "            method=http_method,\n",
    "            body=post_body or '',\n",
    "            headers=http_headers\n",
    "        )\n",
    "        return content\n",
    "    #end\n",
    "\n",
    "    #start getTwitterData\n",
    "    def getData(self, keyword, params = {}):\n",
    "        maxTweets = 50\n",
    "        url = 'https://api.twitter.com/1.1/search/tweets.json?'\n",
    "        data = {'q': keyword, 'lang': 'en', 'result_type': 'recent', 'count': maxTweets, 'include_entities': 0}\n",
    "\n",
    "        #Add if additional params are passed\n",
    "        if params:\n",
    "            for key, value in params.iteritems():\n",
    "                data[key] = value\n",
    "\n",
    "        url += urllib.parse.urlencode(data)\n",
    "\n",
    "        response = self.oauth_req(url)\n",
    "        jsonData = json.loads(response)\n",
    "        tweets = []\n",
    "        if 'errors' in jsonData:\n",
    "            print(\"API Error\")\n",
    "            print(jsonData['errors'])\n",
    "        else:\n",
    "            for item in jsonData['statuses']:\n",
    "                tweets.append(item['text'])\n",
    "        return tweets\n",
    "    #end\n",
    "#end class\n",
    "\n",
    "## Usage\n",
    "## =====\n",
    "td = TwitterData()\n",
    "print(td.getData('#IChoosePeaceUG'))\n"
   ]
  },
  {
   "cell_type": "code",
   "execution_count": null,
   "metadata": {
    "collapsed": true
   },
   "outputs": [],
   "source": []
  }
 ],
 "metadata": {
  "kernelspec": {
   "display_name": "Python 3",
   "language": "python",
   "name": "python3"
  },
  "language_info": {
   "codemirror_mode": {
    "name": "ipython",
    "version": 3
   },
   "file_extension": ".py",
   "mimetype": "text/x-python",
   "name": "python",
   "nbconvert_exporter": "python",
   "pygments_lexer": "ipython3",
   "version": "3.4.4"
  }
 },
 "nbformat": 4,
 "nbformat_minor": 0
}
